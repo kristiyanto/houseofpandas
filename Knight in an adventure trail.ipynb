{
 "cells": [
  {
   "cell_type": "code",
   "execution_count": null,
   "metadata": {
    "collapsed": false
   },
   "outputs": [],
   "source": [
    "import random\n",
    "import statistics as stat\n",
    "class knight:\n",
    "    def __init__(self, T):\n",
    "        self.P = {i:0 for i in range(10)}\n",
    "    \n",
    "        self.S = [0]\n",
    "        self.allowed = {0:(4,6), 1:(6,8), 2:(7,9), 3:(4,8), 4:(0,3,9), 5:(), 6:(0,1,7), 7:(2,6), 8:(1,3), 9:(2,4)}\n",
    "        for i in range(T):\n",
    "            self.nextStep(i)\n",
    "        print(self.S[-1])\n",
    "        #print(self.P)\n",
    "    def allowable(self, n):\n",
    "        return random.choice(self.allowed[n])\n",
    "    def getStd(self):\n",
    "        print('Std: {0:.10f}'.format(stat.stdev(self.S)))\n",
    "        return stat.stdev(self.S)\n",
    "    def getModulo(self, m):\n",
    "        res = (self.S[-1]%m)\n",
    "        print('S Modulo: {0:.10f}'.format(res))\n",
    "    def nextStep(self, i):\n",
    "        last = self.S[-1]\n",
    "        print(self.P)\n",
    "        pref = 0 if i==0 else max(self.P, key=self.P.get)\n",
    "        pb = 1 if i==0 else 0\n",
    "\n",
    "        self.S.append(max(self.P, key=self.P.get))\n",
    "        print(pref)\n",
    "        for n in self.P:\n",
    "            if n in list(self.allowed[pref]):\n",
    "                update =  self.P[n]+((1/len(self.allowed[pref]))/self.P[n])\n",
    "                print('n: {} update: {}'.format(n,update))\n",
    "                self.P.update({n: update})\n",
    "            #else:\n",
    "            #    self.P.update({n: 0})\n"
   ]
  },
  {
   "cell_type": "code",
   "execution_count": null,
   "metadata": {
    "collapsed": false
   },
   "outputs": [],
   "source": [
    "res = []\n",
    "\n",
    "\n",
    "K = knight(5)\n",
    "\n",
    "print(K.S)\n",
    "print(K.P)\n",
    "print(col.Counter(res))"
   ]
  },
  {
   "cell_type": "code",
   "execution_count": null,
   "metadata": {
    "collapsed": false
   },
   "outputs": [],
   "source": [
    "d= {'a':2,'b':5,'c':3}\n",
    "max(d, key=d.get)\n"
   ]
  },
  {
   "cell_type": "code",
   "execution_count": null,
   "metadata": {
    "collapsed": false
   },
   "outputs": [],
   "source": [
    "h"
   ]
  },
  {
   "cell_type": "code",
   "execution_count": null,
   "metadata": {
    "collapsed": true
   },
   "outputs": [],
   "source": []
  }
 ],
 "metadata": {
  "kernelspec": {
   "display_name": "Python 3",
   "language": "python",
   "name": "python3"
  },
  "language_info": {
   "codemirror_mode": {
    "name": "ipython",
    "version": 3
   },
   "file_extension": ".py",
   "mimetype": "text/x-python",
   "name": "python",
   "nbconvert_exporter": "python",
   "pygments_lexer": "ipython3",
   "version": "3.5.1"
  },
  "widgets": {
   "state": {},
   "version": "1.1.2"
  }
 },
 "nbformat": 4,
 "nbformat_minor": 0
}
