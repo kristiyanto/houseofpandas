{
 "cells": [
  {
   "cell_type": "markdown",
   "metadata": {},
   "source": [
    "1. What fraction of assessments are for properties of the most common class? For now, consider all the assessments, even though some properties may be listed more than once.\n",
    "\n",
    "    A: Common Class / Total records\n",
    "\n",
    "2. What is the median assessed improvement value, considering only non-zero assessments? Consider only the latest assessment value for each property, which is uniquely identified by the \"Block and Lot Number\" column.\n",
    "\n",
    "    A: \n",
    "    median(Latest prop)\n",
    "\n",
    "3. Calculate the average improvement value (using only non-zero assessments) in each neighborhood. What is the difference between the greatest and least average values?\n",
    "\n",
    "    sort latest prop.\n",
    "    for each neighbourhood, calc, median: max - min\n",
    "\n",
    "4. What is the yearly growth rate of Land Values over the years covered by this data? Take a simplistic model: the value is given by P=P0ert, where is measured in years.\n",
    "    \n",
    "    (A more complete model would give each property its own base price .) Estimate over all assessments with a non-zero land value. (Hint: Consider using linear regression and logarithms.)\n",
    "    \n",
    "5. We can use the property locations to estimate the areas of the neighborhoods. Represent each as an ellipse with semi axes given by a single standard deviation of the longitude and latitude. What is the area, in square kilometers, of the largest neighborhood measured in this manner? Be sure to filter out invalid coordinates.\n",
    "\n",
    "6. Considering only properties with non-zero numbers of bedrooms and units, calculate the average number of bedrooms per unit in each zip code. Use the ratio of the means instead of the mean of the ratio. What is this ratio in the zip code where it achieves its maximum?\n"
   ]
  },
  {
   "cell_type": "code",
   "execution_count": 1,
   "metadata": {
    "collapsed": false
   },
   "outputs": [
    {
     "name": "stdout",
     "output_type": "stream",
     "text": [
      "(1612110, 43)\n"
     ]
    },
    {
     "data": {
      "text/plain": [
       "0"
      ]
     },
     "execution_count": 1,
     "metadata": {},
     "output_type": "execute_result"
    }
   ],
   "source": [
    "import numpy as np\n",
    "import pandas as pd\n",
    "import matplotlib.pyplot as plt\n",
    "%matplotlib inline \n",
    "\n",
    "d = pd.read_csv(\"Historic_Secured_Property_Tax_Rolls.csv\", low_memory=False)\n",
    "print(d.shape)\n",
    "\n",
    "d.iloc[0]\n",
    "\n",
    "# Making sure no record without ID\n",
    "d['Block and Lot Number'].isnull().sum()"
   ]
  },
  {
   "cell_type": "code",
   "execution_count": 2,
   "metadata": {
    "collapsed": false
   },
   "outputs": [
    {
     "data": {
      "text/plain": [
       "'\\n1. What fraction of assessments are for properties of the most common class? \\nFor now, consider all the assessments, even though some properties may be listed more than once.\\n'"
      ]
     },
     "execution_count": 2,
     "metadata": {},
     "output_type": "execute_result"
    }
   ],
   "source": [
    "'''\n",
    "1. What fraction of assessments are for properties of the most common class? \n",
    "For now, consider all the assessments, even though some properties may be listed more than once.\n",
    "'''"
   ]
  },
  {
   "cell_type": "code",
   "execution_count": 3,
   "metadata": {
    "collapsed": false
   },
   "outputs": [
    {
     "name": "stdout",
     "output_type": "stream",
     "text": [
      "A. Common Class (Excluding NAs): 0.4709759864\n",
      "A. Common Class (Including NAs): 0.4707253227\n"
     ]
    }
   ],
   "source": [
    "common_class = d[['Block and Lot Number', 'Property Class Code']].groupby('Property Class Code').agg('count')\n",
    "print('A. Common Class (Excluding NAs): {0:.10f}'.format(\\\n",
    "    (max(common_class['Block and Lot Number'])/sum(common_class['Block and Lot Number']))))\n",
    "print('A. Common Class (Including NAs): {0:.10f}'.format(\\\n",
    "    (max(common_class['Block and Lot Number'])/d['Block and Lot Number'].count())))"
   ]
  },
  {
   "cell_type": "code",
   "execution_count": 4,
   "metadata": {
    "collapsed": false
   },
   "outputs": [
    {
     "data": {
      "text/plain": [
       "'\\n2. What is the median assessed improvement value, considering only non-zero assessments? \\nConsider only the latest assessment value for each property, which is uniquely identified \\nby the \"Block and Lot Number\" column.\\n'"
      ]
     },
     "execution_count": 4,
     "metadata": {},
     "output_type": "execute_result"
    }
   ],
   "source": [
    "'''\n",
    "2. What is the median assessed improvement value, considering only non-zero assessments? \n",
    "Consider only the latest assessment value for each property, which is uniquely identified \n",
    "by the \"Block and Lot Number\" column.\n",
    "'''"
   ]
  },
  {
   "cell_type": "code",
   "execution_count": 5,
   "metadata": {
    "collapsed": false
   },
   "outputs": [
    {
     "name": "stdout",
     "output_type": "stream",
     "text": [
      "B. Median improvement value: 209161.0000000000\n"
     ]
    }
   ],
   "source": [
    "import statistics as stat\n",
    "d_improvement = d[d['Closed Roll Assessed Improvement Value'] != 0]\n",
    "sliced = d_improvement.groupby(['Block and Lot Number'])['Closed Roll Fiscal Year'].transform(max) == d_improvement['Closed Roll Fiscal Year']\n",
    "\n",
    "med = stat.median(d_improvement.ix[sliced,'Closed Roll Assessed Improvement Value'])\n",
    "print('B. Median improvement value: {0:.10f}'.format(med))"
   ]
  },
  {
   "cell_type": "code",
   "execution_count": 6,
   "metadata": {
    "collapsed": false
   },
   "outputs": [
    {
     "data": {
      "text/plain": [
       "'\\n3. Calculate the average improvement value (using only non-zero assessments) in \\neach neighborhood. What is the difference between the greatest and least average values?\\n'"
      ]
     },
     "execution_count": 6,
     "metadata": {},
     "output_type": "execute_result"
    }
   ],
   "source": [
    "'''\n",
    "3. Calculate the average improvement value (using only non-zero assessments) in \n",
    "each neighborhood. What is the difference between the greatest and least average values?\n",
    "'''"
   ]
  },
  {
   "cell_type": "code",
   "execution_count": 7,
   "metadata": {
    "collapsed": false
   },
   "outputs": [
    {
     "name": "stdout",
     "output_type": "stream",
     "text": [
      "C. Average improvement: 5071144.8168576164\n"
     ]
    }
   ],
   "source": [
    "means = d_improvement.loc[sliced].groupby(['Neighborhood Code'])['Closed Roll Assessed Improvement Value'].mean()\n",
    "\n",
    "print('C. Average improvement: {0:.10f}'.format(max(means) - min(means)))"
   ]
  },
  {
   "cell_type": "code",
   "execution_count": 8,
   "metadata": {
    "collapsed": false
   },
   "outputs": [
    {
     "data": {
      "text/plain": [
       "'\\nWhat is the yearly growth rate of Land Values over the years covered by this data? \\nTake a simplistic model: the value is given by P=P0e^rt, where t is measured in years.\\n    \\n(A more complete model would give each property its own base price .) \\nEstimate over all assessments with a non-zero land value. (Hint: Consider using \\nlinear regression and logarithms.)\\n'"
      ]
     },
     "execution_count": 8,
     "metadata": {},
     "output_type": "execute_result"
    }
   ],
   "source": [
    "'''\n",
    "What is the yearly growth rate of Land Values over the years covered by this data? \n",
    "Take a simplistic model: the value is given by P=P0e^rt, where t is measured in years.\n",
    "    \n",
    "(A more complete model would give each property its own base price .) \n",
    "Estimate over all assessments with a non-zero land value. (Hint: Consider using \n",
    "linear regression and logarithms.)\n",
    "'''"
   ]
  },
  {
   "cell_type": "code",
   "execution_count": 9,
   "metadata": {
    "collapsed": false
   },
   "outputs": [
    {
     "name": "stderr",
     "output_type": "stream",
     "text": [
      "/opt/conda/lib/python3.5/site-packages/ipykernel/__main__.py:2: SettingWithCopyWarning: \n",
      "A value is trying to be set on a copy of a slice from a DataFrame.\n",
      "Try using .loc[row_indexer,col_indexer] = value instead\n",
      "\n",
      "See the caveats in the documentation: http://pandas.pydata.org/pandas-docs/stable/indexing.html#indexing-view-versus-copy\n",
      "  from ipykernel import kernelapp as app\n",
      "/opt/conda/lib/python3.5/site-packages/ipykernel/__main__.py:3: SettingWithCopyWarning: \n",
      "A value is trying to be set on a copy of a slice from a DataFrame.\n",
      "Try using .loc[row_indexer,col_indexer] = value instead\n",
      "\n",
      "See the caveats in the documentation: http://pandas.pydata.org/pandas-docs/stable/indexing.html#indexing-view-versus-copy\n",
      "  app.launch_new_instance()\n"
     ]
    },
    {
     "name": "stdout",
     "output_type": "stream",
     "text": [
      "Annual growth rate: 0.1163263467\n"
     ]
    }
   ],
   "source": [
    "d_land = d[d['Closed Roll Assessed Land Value'] != 0]\n",
    "d_land['x'] = (d_land['Closed Roll Fiscal Year'] - min(d_land['Closed Roll Fiscal Year']-1))\n",
    "d_land['y'] = np.log(d_land['Closed Roll Assessed Land Value'])\n",
    "x = d_land[d_land['y']>0]['x'].values\n",
    "y = d_land[d_land['y']>0]['y'].values\n",
    "[m, b]= np.polynomial.polynomial.polyfit(x, y,1)\n",
    "print(\"Annual growth rate: {0:.10f}\".format(m/100))"
   ]
  },
  {
   "cell_type": "code",
   "execution_count": 10,
   "metadata": {
    "collapsed": false
   },
   "outputs": [
    {
     "data": {
      "text/plain": [
       "'\\n5. We can use the property locations to estimate the areas of the neighborhoods. \\nRepresent each as an ellipse with semi axes given by a single standard deviation of the longitude and latitude. \\nWhat is the area, in square kilometers, of the largest neighborhood measured in this manner? \\nBe sure to filter out invalid coordinates.\\n\\n(long lat)\\n'"
      ]
     },
     "execution_count": 10,
     "metadata": {},
     "output_type": "execute_result"
    }
   ],
   "source": [
    "'''\n",
    "5. We can use the property locations to estimate the areas of the neighborhoods. \n",
    "Represent each as an ellipse with semi axes given by a single standard deviation of the longitude and latitude. \n",
    "What is the area, in square kilometers, of the largest neighborhood measured in this manner? \n",
    "Be sure to filter out invalid coordinates.\n",
    "\n",
    "(long lat)\n",
    "'''\n"
   ]
  },
  {
   "cell_type": "code",
   "execution_count": 11,
   "metadata": {
    "collapsed": false
   },
   "outputs": [
    {
     "name": "stderr",
     "output_type": "stream",
     "text": [
      "/opt/conda/lib/python3.5/site-packages/pandas/core/indexing.py:288: SettingWithCopyWarning: \n",
      "A value is trying to be set on a copy of a slice from a DataFrame.\n",
      "Try using .loc[row_indexer,col_indexer] = value instead\n",
      "\n",
      "See the caveats in the documentation: http://pandas.pydata.org/pandas-docs/stable/indexing.html#indexing-view-versus-copy\n",
      "  self.obj[key] = _infer_fill_value(value)\n",
      "/opt/conda/lib/python3.5/site-packages/pandas/core/indexing.py:465: SettingWithCopyWarning: \n",
      "A value is trying to be set on a copy of a slice from a DataFrame.\n",
      "Try using .loc[row_indexer,col_indexer] = value instead\n",
      "\n",
      "See the caveats in the documentation: http://pandas.pydata.org/pandas-docs/stable/indexing.html#indexing-view-versus-copy\n",
      "  self.obj[item] = s\n"
     ]
    },
    {
     "name": "stdout",
     "output_type": "stream",
     "text": [
      "Largest area: 107.7053961510 squared km.\n"
     ]
    }
   ],
   "source": [
    "import math \n",
    "d_location = d[pd.notnull(d['Location'])]\n",
    "\n",
    "d_location.loc[:,'Lat'] = [float(i.split(',')[0]) for i in d_location['Location'].map(lambda x: x.strip('()'))]\n",
    "d_location.loc[:,'Long'] = [float(i.split(',')[1]) for i in d_location['Location'].map(lambda x: x.strip('()'))]\n",
    "\n",
    "d_locSTD = d_location.groupby(['Neighborhood Code'])['Lat', 'Long'].agg(np.std)\n",
    "d_locSTD.loc[:,'y_axes'] = d_locSTD.apply(lambda x: math.cos(x['Long'])*111.320*0.5, axis=1)\n",
    "d_locSTD.loc[:,'area'] = math.pi*(d_locSTD['Lat']*110.574*0.5)*d_locSTD['y_axes']\n",
    "\n",
    "print('Largest area: {0:.10f} squared km.'.format(float(d_locSTD.loc[d_locSTD['area'].idxmax(),'area'])))"
   ]
  },
  {
   "cell_type": "code",
   "execution_count": 12,
   "metadata": {
    "collapsed": false
   },
   "outputs": [
    {
     "data": {
      "text/plain": [
       "'\\n6. Considering only properties with non-zero numbers of bedrooms and units, \\ncalculate the average number of bedrooms per unit in each zip code. \\nUse the ratio of the means instead of the mean of the ratio. \\nWhat is this ratio in the zip code where it achieves its maximum?\\n'"
      ]
     },
     "execution_count": 12,
     "metadata": {},
     "output_type": "execute_result"
    }
   ],
   "source": [
    "'''\n",
    "6. Considering only properties with non-zero numbers of bedrooms and units, \n",
    "calculate the average number of bedrooms per unit in each zip code. \n",
    "Use the ratio of the means instead of the mean of the ratio. \n",
    "What is this ratio in the zip code where it achieves its maximum?\n",
    "'''"
   ]
  },
  {
   "cell_type": "code",
   "execution_count": 13,
   "metadata": {
    "collapsed": false
   },
   "outputs": [
    {
     "name": "stdout",
     "output_type": "stream",
     "text": [
      "Average bedroom per unit: 3.5990437158\n"
     ]
    }
   ],
   "source": [
    "d_room = d[d.groupby(['Block and Lot Number'])['Closed Roll Fiscal Year'].transform(max) == d['Closed Roll Fiscal Year']]\n",
    "d_room = d_room[:][(d_room['Number of Bedrooms'] != 0) & d_room['Number of Units'] != 0]\n",
    "\n",
    "\n",
    "avg = d_room.groupby(['Zipcode of Parcel'])['Number of Bedrooms', 'Number of Units'].agg(np.mean)\n",
    "avg = avg['Number of Bedrooms']/avg['Number of Units']\n",
    "\n",
    "print('Average bedroom per unit: {0:.10f}'.format(max(avg)))"
   ]
  },
  {
   "cell_type": "code",
   "execution_count": 14,
   "metadata": {
    "collapsed": false
   },
   "outputs": [
    {
     "data": {
      "text/plain": [
       "'\\nWhat is the difference between the average number of units in buildings build in or after 1950, \\nand that for buildings built before 1950? Consider only buildings that have non-zero units reported, \\nand ignore buildings with obviously incorrect years. \\nTo try to avoid the effect of improvements to buildings, use the earliest record for \\neach property, not the latest.\\n'"
      ]
     },
     "execution_count": 14,
     "metadata": {},
     "output_type": "execute_result"
    }
   ],
   "source": [
    "'''\n",
    "What is the difference between the average number of units in buildings build in or after 1950, \n",
    "and that for buildings built before 1950? Consider only buildings that have non-zero units reported, \n",
    "and ignore buildings with obviously incorrect years. \n",
    "To try to avoid the effect of improvements to buildings, use the earliest record for \n",
    "each property, not the latest.\n",
    "'''"
   ]
  },
  {
   "cell_type": "code",
   "execution_count": 15,
   "metadata": {
    "collapsed": false
   },
   "outputs": [
    {
     "name": "stdout",
     "output_type": "stream",
     "text": [
      "Difference avg unit before after 50s: 0.8985516241\n"
     ]
    }
   ],
   "source": [
    "d_unit = d.loc[(d['Number of Units'] != 0) &  d['Year Property Built'].notnull(),:]\n",
    "d_unit = d_unit[d_unit.groupby(['Block and Lot Number'])['Closed Roll Fiscal Year'].transform(min) == d_unit['Closed Roll Fiscal Year']]\n",
    "q75 = d_unit['Year Property Built'].quantile(0.75)\n",
    "q25 = d_unit['Year Property Built'].quantile(0.25)\n",
    "d_unit = d_unit.loc[(d_unit['Year Property Built'] > q25) & (d_unit['Year Property Built'] < 2016), :]\n",
    "avg_b50 = np.mean(d_unit.loc[d_unit['Year Property Built'] < 1950, 'Number of Units'])\n",
    "avg_a50 = np.mean(d_unit.loc[d_unit['Year Property Built'] > 1950, 'Number of Units'])\n",
    "print('Difference avg unit before after 50s: {0:.10f}'.format(avg_a50 - avg_b50))"
   ]
  },
  {
   "cell_type": "code",
   "execution_count": 16,
   "metadata": {
    "collapsed": false
   },
   "outputs": [
    {
     "data": {
      "text/plain": [
       "'\\nEstimate how built-up each zip code is by comparing the total property area to the total lot area. \\nWhat is the largest ratio of property area to surface area of all zip codes?\\n\\n'"
      ]
     },
     "execution_count": 16,
     "metadata": {},
     "output_type": "execute_result"
    }
   ],
   "source": [
    "'''\n",
    "Estimate how built-up each zip code is by comparing the total property area to the total lot area. \n",
    "What is the largest ratio of property area to surface area of all zip codes?\n",
    "\n",
    "'''\n"
   ]
  },
  {
   "cell_type": "code",
   "execution_count": 17,
   "metadata": {
    "collapsed": false
   },
   "outputs": [
    {
     "name": "stdout",
     "output_type": "stream",
     "text": [
      "Ratio property to lot area: 12.0603296061\n"
     ]
    }
   ],
   "source": [
    "d_area = d.loc[d['Lot Area'].notnull() & d['Lot Area'] != 0 & d['Property Area in Square Feet'].notnull()]\n",
    "d_area = d_area[d_area.groupby(['Block and Lot Number'])['Closed Roll Fiscal Year'].transform(max) == d_area['Closed Roll Fiscal Year']]\n",
    "d_area = d_area.groupby(['Zipcode of Parcel'])['Lot Area', 'Property Area in Square Feet'].\\\n",
    "agg(np.sum)\n",
    "d_area['avg'] = d_area['Property Area in Square Feet']/d_area['Lot Area']\n",
    "print('Ratio property to lot area: {0:.10f}'.format(max(d_area['avg'])))"
   ]
  },
  {
   "cell_type": "code",
   "execution_count": null,
   "metadata": {
    "collapsed": true
   },
   "outputs": [],
   "source": [
    "\n"
   ]
  }
 ],
 "metadata": {
  "kernelspec": {
   "display_name": "Python 3",
   "language": "python",
   "name": "python3"
  },
  "language_info": {
   "codemirror_mode": {
    "name": "ipython",
    "version": 3
   },
   "file_extension": ".py",
   "mimetype": "text/x-python",
   "name": "python",
   "nbconvert_exporter": "python",
   "pygments_lexer": "ipython3",
   "version": "3.5.2"
  }
 },
 "nbformat": 4,
 "nbformat_minor": 0
}
