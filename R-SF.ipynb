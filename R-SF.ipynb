{
 "cells": [
  {
   "cell_type": "code",
   "execution_count": 1,
   "metadata": {
    "collapsed": false
   },
   "outputs": [
    {
     "data": {
      "text/plain": [
       " Closed.Roll.Fiscal.Year                            Property.Location  \n",
       " Min.   :2007            0000 0000                       0000:  20389  \n",
       " 1st Qu.:2009            0000 0000 V                     0000:  10951  \n",
       " Median :2011            0329 0327 FULTON              ST0000:   7338  \n",
       " Mean   :2011            0000 0710 POWELL              ST0000:   6512  \n",
       " 3rd Qu.:2013            0000 0441 MASON               ST0000:   4095  \n",
       " Max.   :2014            0399 0301 ANZA                ST0000:   1024  \n",
       " NA's   :1               (Other)                             :1561801  \n",
       " Neighborhood.Code Neighborhood.Code.Definition Block.and.Lot.Number\n",
       " 09C    :  57394   Inner ission  :  57394       0001001:      8     \n",
       " 02E    :  47474                 :  47742       0002001:      8     \n",
       " 05C    :  46603   Central Sunset:  47474       0004002:      8     \n",
       " 10C    :  44961   Noe Valley    :  46603       0005001:      8     \n",
       " 02D    :  44742   Excelsior     :  44961       0006001:      8     \n",
       " 08E    :  43977   Parkside      :  44742       0007001:      8     \n",
       " (Other):1326959   (Other)       :1323194       (Other):1612062     \n",
       " Volume.Number   Property.Class.Code Property.Class.Code.Definition\n",
       " Min.   : 1.00   D      :758861      Dwelling      :758861         \n",
       " 1st Qu.: 9.00   Z      :316212      Condominium   :316212         \n",
       " Median :19.00   F      :158610      Flats & Duplex:158610         \n",
       " Mean   :20.57   A      : 92097      Apartment     : 92097         \n",
       " 3rd Qu.:32.00   TS     : 53933      Timeshare     : 53933         \n",
       " Max.   :45.00   V      : 36875      Vacant Lot    : 36875         \n",
       "                 (Other):195522      (Other)       :195522         \n",
       " Year.Property.Built Number.of.Bathrooms Number.of.Bedrooms Number.of.Rooms   \n",
       " Min.   :   1        Min.   :   0.000    Min.   :   0.000   Min.   :   0.000  \n",
       " 1st Qu.:1913        1st Qu.:   1.000    1st Qu.:   0.000   1st Qu.:   4.000  \n",
       " Median :1934        Median :   1.000    Median :   0.000   Median :   6.000  \n",
       " Mean   :1941        Mean   :   2.357    Mean   :   0.983   Mean   :   7.847  \n",
       " 3rd Qu.:1961        3rd Qu.:   2.000    3rd Qu.:   2.000   3rd Qu.:   8.000  \n",
       " Max.   :9185        Max.   :1002.000    Max.   :3800.000   Max.   :3606.000  \n",
       " NA's   :128599                                                               \n",
       " Number.of.Stories Number.of.Units                  Characteristics.Change.Date\n",
       " Min.   :  0.000   Min.   :   0.000   08/01/1999 12:00:00 AM +0000:708530      \n",
       " 1st Qu.:  1.000   1st Qu.:   1.000                               :207645      \n",
       " Median :  1.000   Median :   1.000   04/01/1998 12:00:00 AM +0000: 27196      \n",
       " Mean   :  1.442   Mean   :   1.843   06/01/1999 12:00:00 AM +0000: 26613      \n",
       " 3rd Qu.:  2.000   3rd Qu.:   1.000   04/01/1999 12:00:00 AM +0000: 23480      \n",
       " Max.   :999.000   Max.   :4000.000   03/01/1999 12:00:00 AM +0000: 22217      \n",
       "                                      (Other)                     :596429      \n",
       "  Zoning.Code     Construction.Type   Lot.Depth       Lot.Frontage     \n",
       " RH1    :494615   D      :1259590   Min.   : 0.000   Min.   : 0.00000  \n",
       " RH2    :292436          : 254613   1st Qu.: 0.000   1st Qu.: 0.00000  \n",
       "        :218235   C      :  45796   Median : 0.000   Median : 0.00000  \n",
       " RH3    :113693   A      :  22385   Mean   : 8.749   Mean   : 0.05788  \n",
       " RH1D   :103634   B      :  13065   3rd Qu.: 0.000   3rd Qu.: 0.00000  \n",
       " RM1    : 75916   WOO    :  10732   Max.   :99.960   Max.   :99.39000  \n",
       " (Other):313581   (Other):   5929                                      \n",
       " Property.Area.in.Square.Feet Basement.Area         Lot.Area        Lot.Code   \n",
       " Min.   :      0              Min.   :    0.00   Min.   :       0    :1042792  \n",
       " 1st Qu.:   1000              1st Qu.:    0.00   1st Qu.:       0   ':      7  \n",
       " Median :   1406              Median :    0.00   Median :    2495   O: 135584  \n",
       " Mean   :   2912              Mean   :   55.39   Mean   :    3852   R: 432446  \n",
       " 3rd Qu.:   2243              3rd Qu.:    0.00   3rd Qu.:    3000   S:   1281  \n",
       " Max.   :4701100              Max.   :73878.00   Max.   :58001446              \n",
       "                              NA's   :1          NA's   :1                     \n",
       " Prior.Sales.Date   Recordation.Date   Document.Number  Document.Number.2\n",
       " Mode:logical               : 120176          :976363   Min.   :   0.0   \n",
       " NA's:1612110     11/30/1993:   6455   UNRE   :  8343   1st Qu.:   0.0   \n",
       "                  06/18/1998:   3803   I641   :  1229   Median :   0.0   \n",
       "                  06/03/1985:   2456   H824   :  1103   Mean   : 213.5   \n",
       "                  07/18/1970:   2121   G521   :  1049   3rd Qu.: 366.0   \n",
       "                  08/29/1980:   2061   I628   :   870   Max.   :9999.0   \n",
       "                  (Other)   :1475038   (Other):623153   NA's   :1        \n",
       " Tax.Rate.Area.Code Percent.of.Ownership Closed.Roll.Exemption.Type.Code\n",
       " Min.   :   1       Min.   :0.0e+00             :871407                 \n",
       " 1st Qu.:1000       1st Qu.:1.0e+00      11     :726365                 \n",
       " Median :1000       Median :1.0e+00      03     :  7435                 \n",
       " Mean   :1000       Mean   :4.7e+00      06     :  2522                 \n",
       " 3rd Qu.:1000       3rd Qu.:1.0e+00      08     :  1698                 \n",
       " Max.   :9000       Max.   :6.0e+05      07     :  1174                 \n",
       " NA's   :4368       NA's   :1            (Other):  1509                 \n",
       " Closed.Roll.Exemption.Type.Code.Definition Closed.Roll.Status.Code\n",
       "                   :871450                         :1583521        \n",
       " Home Owners       :726365                  N      :  25545        \n",
       " Welfare           :  7435                  S      :   1951        \n",
       " Religious         :  2522                  L      :   1081        \n",
       " College/University:  1698                  A      :      6        \n",
       " Church            :  1174                  \\\\     :      2        \n",
       " (Other)           :  1466                  (Other):      4        \n",
       " Closed.Roll.Misc.Exemption.Value Closed.Roll.Homeowner.Exemption.Value\n",
       " Min.   :        0                Min.   :     0                       \n",
       " 1st Qu.:        0                1st Qu.:     0                       \n",
       " Median :        0                Median :     0                       \n",
       " Mean   :    26936                Mean   :  3194                       \n",
       " 3rd Qu.:        0                3rd Qu.:  7000                       \n",
       " Max.   :705683102                Max.   :777000                       \n",
       " NA's   :1                        NA's   :1                            \n",
       "  Current.Sales.Date Closed.Roll.Assessed.Fixtures.Value\n",
       "           :776540   Min.   :        0                  \n",
       " 08/29/1980:  1318   1st Qu.:        0                  \n",
       " 09/30/1940:  1134   Median :        0                  \n",
       " 02/28/1941:   853   Mean   :     6956                  \n",
       " 06/29/1970:   801   3rd Qu.:        0                  \n",
       " 03/30/1970:   797   Max.   :608466337                  \n",
       " (Other)   :830667   NA's   :1                          \n",
       " Closed.Roll.Assessed.Improvement.Value Closed.Roll.Assessed.Land.Value\n",
       " Min.   :        0                      Min.   :        0              \n",
       " 1st Qu.:    73922                      1st Qu.:    45626              \n",
       " Median :   175076                      Median :   178747              \n",
       " Mean   :   375582                      Mean   :   365149              \n",
       " 3rd Qu.:   315024                      3rd Qu.:   381840              \n",
       " Max.   :878356962                      Max.   :279169075              \n",
       " NA's   :1                              NA's   :1                      \n",
       " Closed.Roll.Assessed.Personal.Prop.Value Zipcode.of.Parcel Supervisor.District\n",
       " Min.   :        0                        Min.   :94102     Min.   : 1.000     \n",
       " 1st Qu.:        0                        1st Qu.:94110     1st Qu.: 3.000     \n",
       " Median :        0                        Median :94116     Median : 6.000     \n",
       " Mean   :     5016                        Mean   :94117     Mean   : 6.101     \n",
       " 3rd Qu.:        0                        3rd Qu.:94123     3rd Qu.: 9.000     \n",
       " Max.   :154044147                        Max.   :94158     Max.   :11.000     \n",
       " NA's   :1                                NA's   :27438     NA's   :25968      \n",
       "    Neighborhoods...Analysis.Boundaries\n",
       " Sunset/Parkside      : 178775         \n",
       " West of Twin Peaks   : 107806         \n",
       " Outer Richmond       :  81412         \n",
       " Bayview Hunters Point:  76821         \n",
       " Mission              :  74582         \n",
       " Excelsior            :  70101         \n",
       " (Other)              :1022613         \n",
       "                                  Location      \n",
       "                                      :  20302  \n",
       " (37.7878251623131, -122.410370513452):  19140  \n",
       " (37.8054734095025, -122.420597044921):  10816  \n",
       " (37.778608347486, -122.422193557614) :   9776  \n",
       " (37.7908412373183, -122.412513847725):   8461  \n",
       " (37.7912983551267, -122.408814373332):   6528  \n",
       " (Other)                              :1537087  "
      ]
     },
     "execution_count": 1,
     "metadata": {},
     "output_type": "execute_result"
    }
   ],
   "source": [
    "raw <- read.csv(file = \"Historic_Secured_Property_Tax_Rolls.csv\")\n",
    "raw <- as.data.frame(raw)\n",
    "summary(raw)"
   ]
  },
  {
   "cell_type": "code",
   "execution_count": 2,
   "metadata": {
    "collapsed": false
   },
   "outputs": [
    {
     "data": {
      "text/html": [
       "<ol class=list-inline>\n",
       "\t<li>1612110</li>\n",
       "\t<li>43</li>\n",
       "</ol>\n"
      ],
      "text/latex": [
       "\\begin{enumerate*}\n",
       "\\item 1612110\n",
       "\\item 43\n",
       "\\end{enumerate*}\n"
      ],
      "text/markdown": [
       "1. 1612110\n",
       "2. 43\n",
       "\n",
       "\n"
      ],
      "text/plain": [
       "[1] 1612110      43"
      ]
     },
     "execution_count": 2,
     "metadata": {},
     "output_type": "execute_result"
    },
    {
     "data": {
      "text/html": [
       "1612110"
      ],
      "text/latex": [
       "1612110"
      ],
      "text/markdown": [
       "1612110"
      ],
      "text/plain": [
       "[1] 1612110"
      ]
     },
     "execution_count": 2,
     "metadata": {},
     "output_type": "execute_result"
    }
   ],
   "source": [
    "dim(raw)\n",
    "length(raw$Block.and.Lot.Number)"
   ]
  },
  {
   "cell_type": "markdown",
   "metadata": {},
   "source": [
    "### 1. What fraction of assessments are for properties of the most common class? For now, consider all the assessments, even though some properties may be listed more than once.\n"
   ]
  },
  {
   "cell_type": "code",
   "execution_count": 3,
   "metadata": {
    "collapsed": false
   },
   "outputs": [
    {
     "name": "stdout",
     "output_type": "stream",
     "text": [
      "[1] 0\n"
     ]
    },
    {
     "data": {
      "text/html": [
       "0.4707253227"
      ],
      "text/latex": [
       "0.4707253227"
      ],
      "text/markdown": [
       "0.4707253227"
      ],
      "text/plain": [
       "[1] 0.4707253"
      ]
     },
     "execution_count": 3,
     "metadata": {},
     "output_type": "execute_result"
    }
   ],
   "source": [
    "# 1\n",
    "\n",
    "print(sum(is.na(raw$Property.Class.Code)))\n",
    "common_class <- max(summary(raw$Property.Class.Code))\n",
    "round(common_class / nrow(raw), 10)"
   ]
  },
  {
   "cell_type": "markdown",
   "metadata": {},
   "source": [
    "### 2. What is the median assessed improvement value, considering only non-zero assessments? Consider only the latest assessment value for each property, which is uniquely identified by the \"Block and Lot Number\" column.\n"
   ]
  },
  {
   "cell_type": "code",
   "execution_count": 4,
   "metadata": {
    "collapsed": false
   },
   "outputs": [
    {
     "data": {
      "text/html": [
       "<ol class=list-inline>\n",
       "\t<li>'0001001'</li>\n",
       "\t<li>'0002001'</li>\n",
       "\t<li>'0004002'</li>\n",
       "\t<li>'0005001'</li>\n",
       "\t<li>'0006001'</li>\n",
       "\t<li>'0007001'</li>\n",
       "</ol>\n"
      ],
      "text/latex": [
       "\\begin{enumerate*}\n",
       "\\item '0001001'\n",
       "\\item '0002001'\n",
       "\\item '0004002'\n",
       "\\item '0005001'\n",
       "\\item '0006001'\n",
       "\\item '0007001'\n",
       "\\end{enumerate*}\n"
      ],
      "text/markdown": [
       "1. '0001001'\n",
       "2. '0002001'\n",
       "3. '0004002'\n",
       "4. '0005001'\n",
       "5. '0006001'\n",
       "6. '0007001'\n",
       "\n",
       "\n"
      ],
      "text/plain": [
       "[1] \"0001001\" \"0002001\" \"0004002\" \"0005001\" \"0006001\" \"0007001\""
      ]
     },
     "execution_count": 4,
     "metadata": {},
     "output_type": "execute_result"
    },
    {
     "data": {
      "text/html": [
       "209524"
      ],
      "text/latex": [
       "209524"
      ],
      "text/markdown": [
       "209524"
      ],
      "text/plain": [
       "[1] 209524"
      ]
     },
     "execution_count": 4,
     "metadata": {},
     "output_type": "execute_result"
    }
   ],
   "source": [
    "# 2\n",
    "property <- levels(as.factor(raw$Block.and.Lot.Number))\n",
    "head(property)\n",
    "length(property)"
   ]
  },
  {
   "cell_type": "code",
   "execution_count": 5,
   "metadata": {
    "collapsed": false
   },
   "outputs": [
    {
     "data": {
      "text/html": [
       "<ol class=list-inline>\n",
       "\t<li>2014</li>\n",
       "\t<li>2013</li>\n",
       "\t<li>2012</li>\n",
       "\t<li>2011</li>\n",
       "\t<li>2010</li>\n",
       "\t<li>2009</li>\n",
       "\t<li>2008</li>\n",
       "\t<li>2007</li>\n",
       "</ol>\n"
      ],
      "text/latex": [
       "\\begin{enumerate*}\n",
       "\\item 2014\n",
       "\\item 2013\n",
       "\\item 2012\n",
       "\\item 2011\n",
       "\\item 2010\n",
       "\\item 2009\n",
       "\\item 2008\n",
       "\\item 2007\n",
       "\\end{enumerate*}\n"
      ],
      "text/markdown": [
       "1. 2014\n",
       "2. 2013\n",
       "3. 2012\n",
       "4. 2011\n",
       "5. 2010\n",
       "6. 2009\n",
       "7. 2008\n",
       "8. 2007\n",
       "\n",
       "\n"
      ],
      "text/plain": [
       "[1] 2014 2013 2012 2011 2010 2009 2008 2007"
      ]
     },
     "execution_count": 5,
     "metadata": {},
     "output_type": "execute_result"
    }
   ],
   "source": [
    "years <- levels(as.factor(raw$Closed.Roll.Fiscal.Year))\n",
    "years <- sort(as.integer(years),decreasing = T)\n",
    "years"
   ]
  },
  {
   "cell_type": "code",
   "execution_count": 23,
   "metadata": {
    "collapsed": false
   },
   "outputs": [
    {
     "name": "stdout",
     "output_type": "stream",
     "text": [
      "\n",
      "The downloaded source packages are in\n",
      "\t‘/tmp/RtmpzU9JNV/downloaded_packages’\n"
     ]
    },
    {
     "name": "stderr",
     "output_type": "stream",
     "text": [
      "Updating HTML index of packages in '.Library'\n",
      "Making 'packages.html' ... done\n"
     ]
    }
   ],
   "source": [
    "install.packages('data.table', repos = 'http://cran.us.r-project.org')\n",
    "library(data.table)\n"
   ]
  },
  {
   "cell_type": "code",
   "execution_count": null,
   "metadata": {
    "collapsed": false
   },
   "outputs": [],
   "source": [
    "m <- raw[raw$Closed.Roll.Assessed.Improvement.Value !=0,c('Block.and.Lot.Number','Closed.Roll.Fiscal.Year','Closed.Roll.Assessed.Improvement.Value')]\n",
    "m <- as.data.table(m)"
   ]
  },
  {
   "cell_type": "code",
   "execution_count": null,
   "metadata": {
    "collapsed": false
   },
   "outputs": [],
   "source": [
    "m"
   ]
  },
  {
   "cell_type": "code",
   "execution_count": 30,
   "metadata": {
    "collapsed": false
   },
   "outputs": [
    {
     "ename": "ERROR",
     "evalue": "Error in `[.data.table`(m, m[, .I[which.max(Closed.Roll.Fiscal.Year)], : When i is a data.table (or character vector), x must be keyed (i.e. sorted, and, marked as sorted) so data.table knows which columns to join to and take advantage of x being sorted. Call setkey(x,...) first, see ?setkey.\n",
     "output_type": "error",
     "traceback": [
      "Error in `[.data.table`(m, m[, .I[which.max(Closed.Roll.Fiscal.Year)], : When i is a data.table (or character vector), x must be keyed (i.e. sorted, and, marked as sorted) so data.table knows which columns to join to and take advantage of x being sorted. Call setkey(x,...) first, see ?setkey.\n"
     ]
    }
   ],
   "source": [
    "m[m[, .I[which.max(Closed.Roll.Fiscal.Year)], by=Block.and.Lot.Number]]\n"
   ]
  },
  {
   "cell_type": "code",
   "execution_count": null,
   "metadata": {
    "collapsed": true
   },
   "outputs": [],
   "source": [
    "print(m)"
   ]
  },
  {
   "cell_type": "code",
   "execution_count": null,
   "metadata": {
    "collapsed": true
   },
   "outputs": [],
   "source": []
  }
 ],
 "metadata": {
  "kernelspec": {
   "display_name": "R",
   "language": "R",
   "name": "ir"
  },
  "language_info": {
   "codemirror_mode": "r",
   "file_extension": ".r",
   "mimetype": "text/x-r-source",
   "name": "R",
   "pygments_lexer": "r",
   "version": "3.2.2"
  },
  "widgets": {
   "state": {},
   "version": "1.1.2"
  }
 },
 "nbformat": 4,
 "nbformat_minor": 0
}
